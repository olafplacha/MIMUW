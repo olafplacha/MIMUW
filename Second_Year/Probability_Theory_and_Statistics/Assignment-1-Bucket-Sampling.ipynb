{
 "cells": [
  {
   "cell_type": "markdown",
   "metadata": {},
   "source": [
    "## Assignment 1\n",
    "### Author: Olaf Placha"
   ]
  },
  {
   "cell_type": "markdown",
   "metadata": {},
   "source": [
    "**Problem 2c (Squaring the histogram).** In this problem, we again want to sample with known probabilities $p_1,\\ldots,p_n$, but this time we make no assumptions on $p_i$. Consider the following algorithm:\n",
    "   * Let $V$ be the mean of $p_i$, i.e. $V=\\frac{1}{n}$.\n",
    "   * Create $n$ buckets, each with volume $V$, put each $p_i$ into a separate bucket.\n",
    "   * Until there exists a bucket $A$ that is not full, find a bucket $B$ that overflows, and trasfer probability from $B$ to $A$ until $A$ is exactly full\n",
    "\n",
    "Show that:\n",
    "   * This algorithm always ends.\n",
    "   * When it ends, each bucket contains pieces of exactly two $p_i$'s.\n",
    "\n",
    "How to use the result of this algorithm to sample with probabilities $p_i$. Argue that your algorithm is correct and implement it. The sampling part should be *vectorized*. Use this algorithm to sample birthdates again, and test its efficiency."
   ]
  },
  {
   "cell_type": "code",
   "execution_count": 1,
   "metadata": {},
   "outputs": [],
   "source": [
    "import numpy as np\n",
    "import matplotlib.pyplot as plt\n",
    "import random\n",
    "import time"
   ]
  },
  {
   "cell_type": "code",
   "execution_count": 52,
   "metadata": {},
   "outputs": [],
   "source": [
    "def getFirstNotFull(bucketProbabs, eps = 1e-15) -> int:\n",
    "    \n",
    "    \"\"\"\n",
    "    Returns index of first bucket that is not full (-1 if all are full)\n",
    "    \"\"\"\n",
    "    \n",
    "    n = bucketProbabs.shape[1]\n",
    "    i = 0\n",
    "    while i < n:\n",
    "        #check if bucket is not full\n",
    "        if bucketProbabs[0, i] + bucketProbabs[1, i] + eps < 1 / n:\n",
    "            return i\n",
    "        i += 1\n",
    "    return -1"
   ]
  },
  {
   "cell_type": "code",
   "execution_count": 50,
   "metadata": {},
   "outputs": [],
   "source": [
    "def getFirstOverflow(bucketProbabs, eps = 1e-15) -> int:\n",
    "    \n",
    "    \"\"\"\n",
    "    Returns index of first bucket that overflows (-1 if no one overflows)\n",
    "    \"\"\"\n",
    "    \n",
    "    n = bucketProbabs.shape[1]\n",
    "    i = 0\n",
    "    while i < n:\n",
    "        #check if bucket overflows\n",
    "        if bucketProbabs[0, i] + bucketProbabs[1, i] - eps > 1 / n:\n",
    "            return i\n",
    "        i += 1\n",
    "    return -1"
   ]
  },
  {
   "cell_type": "code",
   "execution_count": 56,
   "metadata": {},
   "outputs": [],
   "source": [
    "def produceBuckets(probabilities) -> (np.ndarray, np.ndarray):\n",
    "    \n",
    "    \"\"\"\n",
    "    Returns buckets' probabilities and labels\n",
    "    \"\"\"\n",
    "    \n",
    "    #number of buckets\n",
    "    n = probabilities.shape[0]\n",
    "    V = 1 / n\n",
    "    #prepare buckets (each bucket will have up to 2 labels)\n",
    "    bucketProbabs = np.vstack((probabilities, np.zeros(n)))\n",
    "    bucketLabels = np.vstack((np.arange(0, n), np.zeros(n)))\n",
    "    \n",
    "    #repeat procedure untill all buckets are full <=> getFirstNotFull() returns -1\n",
    "    while True:\n",
    "        notFullIdx = getFirstNotFull(bucketProbabs)\n",
    "        if notFullIdx == -1:\n",
    "            break\n",
    "        overflowIdx = getFirstOverflow(bucketProbabs)\n",
    "        #how much should we transfer\n",
    "        transfer = V - bucketProbabs[0, notFullIdx]\n",
    "        #transfering probabilities with labels\n",
    "        bucketProbabs[1, notFullIdx] = transfer\n",
    "        bucketLabels[1, notFullIdx] = overflowIdx\n",
    "        bucketProbabs[0, overflowIdx] -= transfer\n",
    "        \n",
    "    return bucketProbabs, bucketLabels"
   ]
  },
  {
   "cell_type": "code",
   "execution_count": 93,
   "metadata": {},
   "outputs": [],
   "source": [
    "def sampleFromBuckets(bucketProbabs, bucketLabels, k) -> int:\n",
    "    \n",
    "    \"\"\"\n",
    "    Returns random k number from the distribution described by buckets\n",
    "    \"\"\"\n",
    "    \n",
    "    n = bucketProbabs.shape[1]\n",
    "    #get random buckets indices\n",
    "    randomBuckets = np.random.randint(low = 1, high = n, size = k)\n",
    "    #get random part of buckets in range [0, 1/n]\n",
    "    randomParts = np.random.uniform(size = k) / n\n",
    "    #check what part of bucket was sampled, store the label\n",
    "    sampled = np.where(bucketProbabs[0, randomBuckets] >= randomParts, \n",
    "             bucketLabels[0, randomBuckets], bucketLabels[1, randomBuckets])\n",
    "    \n",
    "    return sampled"
   ]
  },
  {
   "cell_type": "code",
   "execution_count": 97,
   "metadata": {},
   "outputs": [],
   "source": [
    "def sampleUntilCollision(bucketProbabs, bucketLabels, N, k) -> list:\n",
    "    \n",
    "    \"\"\"\n",
    "    N is the number of experiments, k is the number of examples sampled in one sampling\n",
    "    Returns list of number of samplings so that the sampled value was already sampled before\n",
    "    \"\"\"\n",
    "    \n",
    "    result = [0] * N\n",
    "    #sampling k numbers from buckets\n",
    "    samples = sampleFromBuckets(bucketProbabs, bucketLabels, k)\n",
    "    #keeping track of how many values we already used from samples array\n",
    "    used = 0\n",
    "    \n",
    "    for i in range(N):\n",
    "        \n",
    "        alreadySampled = set()\n",
    "        \n",
    "        while True:\n",
    "            if used >= k:\n",
    "                #we have to resample\n",
    "                samples = sampleFromBuckets(bucketProbabs, bucketLabels, k)\n",
    "                used = 0\n",
    "            if samples[used] in alreadySampled:\n",
    "                result[i] = len(alreadySampled) + 1\n",
    "                break\n",
    "            else:\n",
    "                alreadySampled.add(samples[used])\n",
    "            used += 1    \n",
    "    return result"
   ]
  },
  {
   "cell_type": "markdown",
   "metadata": {},
   "source": [
    "*** Creating buckets with labels ***"
   ]
  },
  {
   "cell_type": "code",
   "execution_count": 98,
   "metadata": {},
   "outputs": [],
   "source": [
    "#loading data\n",
    "stats = np.loadtxt(\"us_births_69_88.csv\", delimiter=',', skiprows=1)[:,2]\n",
    "#probability of birth in each day\n",
    "p = stats / np.sum(stats)\n",
    "n = p.shape[0]\n",
    "\n",
    "#creating buckets\n",
    "bucketProbabs, bucketLabels = produceBuckets(p)\n",
    "\n",
    "#sanity check that for every i in [0, n-1] the bucketing did not change the probability of i\n",
    "for i in range(n):\n",
    "    assert abs(np.sum(np.where(bucketLabels == i, bucketProbabs, 0)) - p[i]) < 1e-15"
   ]
  },
  {
   "cell_type": "markdown",
   "metadata": {},
   "source": [
    "*** Finding the best vectorization parameter ***"
   ]
  },
  {
   "cell_type": "code",
   "execution_count": 177,
   "metadata": {},
   "outputs": [],
   "source": [
    "#maximum number of samples in one sampling\n",
    "maxInOneSampling = 512\n",
    "timeTaken = []\n",
    "for i in range(1, maxInOneSampling, 4):\n",
    "    t0 = time.time()\n",
    "    result = sampleUntilCollision(bucketProbabs, bucketLabels, int(1e4), i)\n",
    "    timeTaken.append(time.time() - t0)"
   ]
  },
  {
   "cell_type": "markdown",
   "metadata": {},
   "source": [
    "We can see that the more examples we create in one sampling, the faster our algorithm is. But we have to bear in mind that the more examples we create in one sampling, the more data we have to store in the memory in the worst moment"
   ]
  },
  {
   "cell_type": "code",
   "execution_count": 178,
   "metadata": {},
   "outputs": [
    {
     "data": {
      "image/png": "[encoded data removed]",
      "text/plain": [
       "<Figure size 1080x360 with 1 Axes>"
      ]
     },
     "metadata": {
      "needs_background": "light"
     },
     "output_type": "display_data"
    }
   ],
   "source": [
    "temp = range(1, maxInOneSampling, 4)\n",
    "plt.figure(figsize=(15,5))\n",
    "plt.plot(temp, timeTaken)\n",
    "plt.xlabel(\"Vectorization parameter\")\n",
    "plt.ylabel(\"Time in seconds\")\n",
    "plt.plot(temp, [0] * len(temp))\n",
    "plt.show()"
   ]
  },
  {
   "cell_type": "markdown",
   "metadata": {},
   "source": [
    "*** Finally using our algorithm ***\n",
    "\n",
    "Using our bucket sampling algorithm to plot the distribution of random variable $X$, which denotes the number of samplings that you have to do to get 2 people born the same day of the year. Distribution of births across the year is taken from us_births_69_88.csv file"
   ]
  },
  {
   "cell_type": "code",
   "execution_count": 189,
   "metadata": {},
   "outputs": [
    {
     "data": {
      "image/png": "[encoded data removed]",
      "text/plain": [
       "<Figure size 432x288 with 1 Axes>"
      ]
     },
     "metadata": {
      "needs_background": "light"
     },
     "output_type": "display_data"
    },
    {
     "name": "stdout",
     "output_type": "stream",
     "text": [
      "CPU times: user 1.17 s, sys: 4.02 ms, total: 1.18 s\n",
      "Wall time: 1.18 s\n"
     ]
    }
   ],
   "source": [
    "%%time\n",
    "result = sampleUntilCollision(bucketProbabs, bucketLabels, int(1e5), 512)\n",
    "plt.hist(result, bins = range(100))\n",
    "plt.show()"
   ]
  },
  {
   "cell_type": "code",
   "execution_count": null,
   "metadata": {},
   "outputs": [],
   "source": []
  }
 ],
 "metadata": {
  "kernelspec": {
   "display_name": "Python 3",
   "language": "python",
   "name": "python3"
  },
  "language_info": {
   "codemirror_mode": {
    "name": "ipython",
    "version": 3
   },
   "file_extension": ".py",
   "mimetype": "text/x-python",
   "name": "python",
   "nbconvert_exporter": "python",
   "pygments_lexer": "ipython3",
   "version": "3.8.3"
  }
 },
 "nbformat": 4,
 "nbformat_minor": 4
}
