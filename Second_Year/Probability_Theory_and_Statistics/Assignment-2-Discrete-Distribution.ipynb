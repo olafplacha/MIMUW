{
 "cells": [
  {
   "cell_type": "markdown",
   "metadata": {},
   "source": [
    "## Assignment 2\n",
    "### Author: Olaf Placha"
   ]
  },
  {
   "cell_type": "markdown",
   "metadata": {},
   "source": [
    "**Problem 3b.** In this task we consider a discrete distribution *without a mean* and verify whether we can still estimate the location of its peak by simply computing averages. Consider a discrete variable $X$ with the following distribution: $P(X=k) = \\frac{1}{4|k|(|k|+1)}$ for $k \\neq 0$ and $P(X=0) = \\frac{1}{2}$. \n",
    " * Argue that these formulas indeed describe a discrete distribution.\n",
    " * Show that $X$ does not have a mean.\n",
    " * Plot the function $f(k) = P(X=k)$ for $k \\in [-10,10]$.\n",
    " * Write a function that samples from $X$'s distribution (imaginary bonus points if it is vectorized).\n",
    " * Generate $N=10\\,000$ values $x_1,\\ldots,x_n$ from the distribution.\n",
    " * For $i \\in \\{1,\\ldots,n\\}$ compute $\\bar{x}_i = \\frac{x_1+\\ldots+x_i}{i}$. \n",
    " * Plot the values of $\\bar{x}_i$. Does it look like the series converges? If it is not clear, you can compute several independent\n",
    "   $N$-means and plot a histogram, then increase $N$ significantly and see how it changes.\n",
    " * For $i \\in \\{1,\\ldots,n\\}$ compute $\\hat{x}_i = \\textrm{ median of }\\{x_1,\\ldots,x_i\\}$. \n",
    "   You do not need to do it in a clever way (like in ASD lab).\n",
    " * Plot the values of $\\hat{x}_i$. Does it look like the series converges? \n",
    " * A more interesting situation would be the one where you a given a distribution like $X+c$ for unknown $c$, and \n",
    "   want to figure out what $c$ is, i.e. find the center of the distribution. Both methods above attempt to\n",
    "   locate the center - which works better?"
   ]
  },
  {
   "cell_type": "markdown",
   "metadata": {},
   "source": [
    "*** Solution ***"
   ]
  },
  {
   "cell_type": "markdown",
   "metadata": {},
   "source": [
    "Ad 1 <br>\n",
    "We have to show that $P(X \\neq 0) = \\frac{1}{2}$. Using symmetry our task comes down to showing that $\\sum_{k=1}^\\infty P(X=k)=\\frac{1}{4}$. <br>\n",
    "$\\sum_{k=1}^\\infty\\frac{1}{4|k|(|k|+1)}=\\frac{1}{4}\\sum_{k=1}^\\infty\\frac{1}{k(k+1)}=\\sum_{k=1}^\\infty(\\frac{1}{k}-\\frac{1}{k+1})=\\frac{1}{4}(1-\\frac{1}{2}+\\frac{1}{2}-\\frac{1}{3}+\\frac{1}{3}...)=\\frac{1}{4}$"
   ]
  },
  {
   "cell_type": "markdown",
   "metadata": {},
   "source": [
    "Ad 2 <br>\n",
    "By definition $EX$ exists iif $\\sum_{k\\in(-\\infty,\\infty)}|k|P(X=k) <\\infty$ <br>\n",
    "Using symmetry the sum is equivalent to $\\frac{1}{4}\\sum_{k=1}^\\infty\\frac{1}{k+1}$, which is a non-convergent harmonic series. Therefore mean of the distribution does not exist."
   ]
  },
  {
   "cell_type": "markdown",
   "metadata": {},
   "source": [
    "Ad 3"
   ]
  },
  {
   "cell_type": "code",
   "execution_count": 51,
   "metadata": {},
   "outputs": [],
   "source": [
    "import numpy as np\n",
    "import random\n",
    "import matplotlib.pyplot as plt\n",
    "%matplotlib inline"
   ]
  },
  {
   "cell_type": "code",
   "execution_count": 5,
   "metadata": {},
   "outputs": [],
   "source": [
    "def return_probab(k):\n",
    "    if k == 0:\n",
    "        return 0.5\n",
    "    return 1 / (4 * abs(k) * (abs(k) + 1))"
   ]
  },
  {
   "cell_type": "code",
   "execution_count": 19,
   "metadata": {},
   "outputs": [
    {
     "data": {
      "image/png": "[encoded data removed]",
      "text/plain": [
       "<Figure size 432x288 with 1 Axes>"
      ]
     },
     "metadata": {
      "needs_background": "light"
     },
     "output_type": "display_data"
    }
   ],
   "source": [
    "lower = -10\n",
    "higher = 10\n",
    "probabs = [return_probab(k) for k in range(lower, higher + 1)]\n",
    "plt.scatter(range(lower, higher + 1), probabs)\n",
    "plt.show()"
   ]
  },
  {
   "cell_type": "markdown",
   "metadata": {},
   "source": [
    "Ad 4 <br>\n",
    "We will use Inverse Sampling for Discrete Distribution. There are 2 cases: $X=0$ and $X \\neq 0$, both with probability equal to $0.5$. <br> In the second case we also have 2 cases $X < 0$ and $X > 0$. <br> Let's consider the second case (the other one is symmetrial). To sample from that subspace, we can normalize probabilities for each $x \\in \\{1, 2, 3, ...\\}$ by multiplying their probabilities by 4. Now $P(X'=k)=\\frac{1}{k(k+1)}$. From that we can obtain $F(x) = P(X' \\leq x) = \\sum_{1\\leq k \\leq x}\\frac{1}{k(k+1)}=1-\\frac{1}{k+1}$. So sampling from that subspace comes down to finding minimum integer $k$ for which $r \\leq 1 - \\frac{1}{k+1}$, where r is sampled from uniform distribution on $(0,1)$. We can find such $k$ using the following formula $k=\\lceil\\frac{1}{1-r}-1\\rceil$"
   ]
  },
  {
   "cell_type": "code",
   "execution_count": 60,
   "metadata": {},
   "outputs": [],
   "source": [
    "def sample(n):\n",
    "    \"\"\"\n",
    "    Sampling n values from the discrete distribution described above\n",
    "    \"\"\"\n",
    "    randomArr = np.random.uniform(size=n)\n",
    "    sampledArr = np.where(randomArr <= 0.5, 0, 1)\n",
    "    #sample sign\n",
    "    signArr = np.random.uniform(size=n)\n",
    "    signedArr = np.where(signArr <= 0.5, -sampledArr, sampledArr)\n",
    "    #apply logic presented above\n",
    "    f = lambda x: x * np.ceil(1 / (1 - random.random()) - 1)\n",
    "    fVectorized = np.vectorize(f)\n",
    "\n",
    "    return fVectorized(signedArr)"
   ]
  },
  {
   "cell_type": "code",
   "execution_count": 68,
   "metadata": {},
   "outputs": [
    {
     "data": {
      "image/png": "[encoded data removed]",
      "text/plain": [
       "<Figure size 432x288 with 1 Axes>"
      ]
     },
     "metadata": {
      "needs_background": "light"
     },
     "output_type": "display_data"
    }
   ],
   "source": [
    "plt.hist(sample(10000), bins=range(-20,20))\n",
    "plt.show()"
   ]
  },
  {
   "cell_type": "code",
   "execution_count": 96,
   "metadata": {},
   "outputs": [],
   "source": [
    "def sanity_check(n):\n",
    "    samples = sample(n)\n",
    "    \n",
    "    #let's print probability from the formula and derived from sampling\n",
    "    formula = []\n",
    "    derived = []\n",
    "    for i in range(-20, 20 + 1):\n",
    "        formula.append(return_probab(i))\n",
    "        derived.append(np.sum(np.where(samples == i, 1, 0)) / n)\n",
    "    plt.scatter(range(-20,21), derived, s=5)\n",
    "    plt.scatter(range(-20,21), formula, s=5)"
   ]
  },
  {
   "cell_type": "code",
   "execution_count": 98,
   "metadata": {},
   "outputs": [
    {
     "data": {
      "image/png": "[encoded data removed]",
      "text/plain": [
       "<Figure size 432x288 with 1 Axes>"
      ]
     },
     "metadata": {
      "needs_background": "light"
     },
     "output_type": "display_data"
    }
   ],
   "source": [
    "#using only 1e4 samples we accurately modeled the distribition\n",
    "sanity_check(int(1e4))"
   ]
  },
  {
   "cell_type": "markdown",
   "metadata": {},
   "source": [
    "Ad 5, 6"
   ]
  },
  {
   "cell_type": "code",
   "execution_count": 149,
   "metadata": {},
   "outputs": [],
   "source": [
    "N = int(1e4)\n",
    "sampled = sample(N)\n",
    "means = []\n",
    "for i in range(1, N + 1):\n",
    "    means.append(np.mean(sampled[:i]))"
   ]
  },
  {
   "cell_type": "code",
   "execution_count": 150,
   "metadata": {},
   "outputs": [
    {
     "data": {
      "image/png": "[encoded data removed]",
      "text/plain": [
       "<Figure size 432x288 with 1 Axes>"
      ]
     },
     "metadata": {
      "needs_background": "light"
     },
     "output_type": "display_data"
    }
   ],
   "source": [
    "#mean doesn't converge\n",
    "plt.plot(range(1, N + 1), means)\n",
    "plt.show()"
   ]
  },
  {
   "cell_type": "markdown",
   "metadata": {},
   "source": [
    "Ad 7, 8"
   ]
  },
  {
   "cell_type": "code",
   "execution_count": 155,
   "metadata": {},
   "outputs": [],
   "source": [
    "N = int(1e4)\n",
    "sampled = sample(N)\n",
    "medians = []\n",
    "for i in range(1, N + 1):\n",
    "    medians.append(np.median(sampled[:i]))"
   ]
  },
  {
   "cell_type": "code",
   "execution_count": 156,
   "metadata": {},
   "outputs": [
    {
     "data": {
      "image/png": "[encoded data removed]",
      "text/plain": [
       "<Figure size 432x288 with 1 Axes>"
      ]
     },
     "metadata": {
      "needs_background": "light"
     },
     "output_type": "display_data"
    }
   ],
   "source": [
    "#median converges\n",
    "plt.plot(range(1, N + 1), medians)\n",
    "plt.show()"
   ]
  },
  {
   "cell_type": "markdown",
   "metadata": {},
   "source": [
    "Ad 9 <br>\n",
    "Mean coverges to the center of the distribution, thus it would be better in order to locate the center"
   ]
  }
 ],
 "metadata": {
  "kernelspec": {
   "display_name": "Python 3",
   "language": "python",
   "name": "python3"
  },
  "language_info": {
   "codemirror_mode": {
    "name": "ipython",
    "version": 3
   },
   "file_extension": ".py",
   "mimetype": "text/x-python",
   "name": "python",
   "nbconvert_exporter": "python",
   "pygments_lexer": "ipython3",
   "version": "3.8.3"
  }
 },
 "nbformat": 4,
 "nbformat_minor": 4
}
